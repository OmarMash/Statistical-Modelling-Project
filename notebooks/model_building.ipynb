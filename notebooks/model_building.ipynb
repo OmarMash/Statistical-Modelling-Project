{
 "cells": [
  {
   "cell_type": "markdown",
   "metadata": {},
   "source": [
    "Build a regression model."
   ]
  },
  {
   "cell_type": "code",
   "execution_count": null,
   "metadata": {},
   "outputs": [],
   "source": [
    "import statsmodels.formula.api as smf"
   ]
  },
  {
   "cell_type": "code",
   "execution_count": null,
   "metadata": {},
   "outputs": [],
   "source": [
    "filtered_df = joined_data[[\"free_bikes\", \"distance\", \"popularity\",\"verified\" ,\"rating\",\"stats.total_ratings\",\"stats.total_tips\"]]\n",
    "df = filtered_df.dropna().reset_index()\n",
    "df.rename(columns={\"stats.total_ratings\": \"num_ratings\",\"stats.total_tips\": \"num_tips\"}, inplace=True)\n",
    "X = df[df.columns[~df.columns.isin(['free_bikes'])]]\n",
    "Y = df['free_bikes']\n",
    "df = pd.get_dummies(df, columns=['verified'], drop_first=False, dtype=int)\n",
    "df.drop(columns=['verified_False'], inplace = True) \n",
    "model = smf.ols(formula='free_bikes ~ num_ratings + popularity + rating + num_ratings + num_tips + verified_True', data=df).fit()"
   ]
  },
  {
   "cell_type": "markdown",
   "metadata": {},
   "source": [
    "Provide model output and an interpretation of the results. "
   ]
  },
  {
   "cell_type": "code",
   "execution_count": null,
   "metadata": {},
   "outputs": [],
   "source": [
    "print(model.summary())"
   ]
  },
  {
   "cell_type": "markdown",
   "metadata": {},
   "source": [
    "# Stretch"
   ]
  },
  {
   "cell_type": "markdown",
   "metadata": {},
   "source": [
    "How can you turn the regression model into a classification model?"
   ]
  },
  {
   "cell_type": "markdown",
   "metadata": {},
   "source": [
    "I would add a dummy variable referncing 'free_bikes', a value of 0 if no bikes available and 1 if there are. I would then do a logistic regression with that new dummy variable as my dependent variable"
   ]
  }
 ],
 "metadata": {
  "kernelspec": {
   "display_name": "Python 3.8.16",
   "language": "python",
   "name": "python3"
  },
  "language_info": {
   "codemirror_mode": {
    "name": "ipython",
    "version": 3
   },
   "file_extension": ".py",
   "mimetype": "text/x-python",
   "name": "python",
   "nbconvert_exporter": "python",
   "pygments_lexer": "ipython3",
   "version": "3.8.16"
  },
  "vscode": {
   "interpreter": {
    "hash": "39512f3c2a1741d7f752d45a133d4514127029333ea14bc2f3c6c5e6759b9029"
   }
  }
 },
 "nbformat": 4,
 "nbformat_minor": 4
}
