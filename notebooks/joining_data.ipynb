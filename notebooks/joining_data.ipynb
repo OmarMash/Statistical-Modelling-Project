{
 "cells": [
  {
   "cell_type": "markdown",
   "metadata": {},
   "source": [
    "Join the data from Part 1 with the data from Part 2 to create a new dataframe."
   ]
  },
  {
   "cell_type": "code",
   "execution_count": null,
   "metadata": {},
   "outputs": [],
   "source": [
    "FS_df_with_station_id = pd.merge(poi_for_all_stations, station_to_poi_table, how='inner', on='fsq_id')\n",
    "joined_data = pd.merge(FS_df_with_station_id, station_stats, how='inner', left_on='station_id', right_on= \"id\" )\n",
    "joined_data.rename(columns={\"name_x\": \"name\",\"name_y\": \"street_names\"}, inplace=True)\n",
    "joined_data.drop(columns=['id'],inplace=True)"
   ]
  },
  {
   "cell_type": "markdown",
   "metadata": {},
   "source": [
    "Provide a visualization that you used as part of your EDA process. Explain the initial pattern or relationship you discoved through this visualization. "
   ]
  },
  {
   "cell_type": "code",
   "execution_count": null,
   "metadata": {},
   "outputs": [],
   "source": [
    "import seaborn as sns"
   ]
  },
  {
   "cell_type": "code",
   "execution_count": null,
   "metadata": {},
   "outputs": [],
   "source": [
    "each_POI_count=joined_data.groupby(['fsq_id']).agg({'fsq_id': 'count', 'rating':'mean', 'popularity':'mean'}).reset_index(drop = True)\n",
    "grouped_by_POI_count = each_POI_count.groupby(['fsq_id'])[['rating','popularity']].mean().reset_index()\n",
    "\n",
    "bins = [0,5,10,15,20,25,30,35,40,45]\n",
    "grouped_by_POI_count = grouped_by_POI_count.groupby(pd.cut(grouped_by_POI_count['fsq_id'], bins=bins))[['rating','popularity']].mean().reset_index()\n",
    "\n",
    "# one visualization\n",
    "relation_between_popularity_and_num_of_bike_stations = sns.barplot(data=grouped_by_POI_count,x = \"fsq_id\", y=\"popularity\")\n",
    "relation_between_popularity_and_num_of_bike_stations.set(xlabel='Number of bike stations in a 1km radius',\n",
    "       ylabel='Popularity',\n",
    "       title='Number of bike stations X Popularity')\n",
    "\n",
    "# another visualization\n",
    "category_stats = pd.merge(cat_details_table, cat_table, how='inner', left_on='cat_id', right_on= \"Category_id\" ).drop_duplicates(subset = [\"fsq_id\",\"Category_id\"], ignore_index = True)\n",
    "category_count = category_stats[\"cat_id\"].value_counts()\n",
    "category_count.plot(kind='pie')"
   ]
  },
  {
   "cell_type": "markdown",
   "metadata": {},
   "source": [
    "# Database"
   ]
  },
  {
   "cell_type": "markdown",
   "metadata": {},
   "source": [
    "Put all your results in an SQLite3 database (remember, SQLite stores its databases as files in your local machine - make sure to create your database in your project's data/ directory!)"
   ]
  },
  {
   "cell_type": "code",
   "execution_count": null,
   "metadata": {},
   "outputs": [],
   "source": [
    "import sqlite3\n",
    "from sqlite3 import Error"
   ]
  },
  {
   "cell_type": "code",
   "execution_count": null,
   "metadata": {},
   "outputs": [],
   "source": [
    "def create_connection(path):\n",
    "    connection = None\n",
    "    try:\n",
    "        connection = sqlite3.connect(path)\n",
    "        print(\"Connection to SQLite DB successful\")\n",
    "    except Error as e:\n",
    "        print(f\"The error '{e}' occurred\")\n",
    "\n",
    "    return connection\n",
    "\n",
    "connection = create_connection(\"Hamilton_DB.sqlite\")\n",
    "\n",
    "poi_for_all_stations.drop(columns=['categories'],inplace=True)\n",
    "\n",
    "cat_details_table.to_sql(name = \"cat_details\", con= connection,if_exists=\"replace\",index=False)\n",
    "station_to_poi_table.to_sql(name = \"stations_POI\", con= connection,if_exists=\"replace\",index=False)\n",
    "station_stats.to_sql(name = \"all_stations\", con= connection,if_exists=\"replace\",index=False)\n",
    "cat_table.to_sql(name = \"POI_Category\", con= connection,if_exists=\"replace\",index=False)\n",
    "poi_for_all_stations.to_sql(name = \"all_POI\", con= connection,if_exists=\"replace\",index=False)"
   ]
  },
  {
   "cell_type": "markdown",
   "metadata": {},
   "source": [
    "Look at the data before and after the join to validate your data."
   ]
  },
  {
   "cell_type": "code",
   "execution_count": null,
   "metadata": {},
   "outputs": [],
   "source": []
  }
 ],
 "metadata": {
  "kernelspec": {
   "display_name": "Python 3.8.16",
   "language": "python",
   "name": "python3"
  },
  "language_info": {
   "codemirror_mode": {
    "name": "ipython",
    "version": 3
   },
   "file_extension": ".py",
   "mimetype": "text/x-python",
   "name": "python",
   "nbconvert_exporter": "python",
   "pygments_lexer": "ipython3",
   "version": "3.8.16"
  },
  "vscode": {
   "interpreter": {
    "hash": "39512f3c2a1741d7f752d45a133d4514127029333ea14bc2f3c6c5e6759b9029"
   }
  }
 },
 "nbformat": 4,
 "nbformat_minor": 4
}
