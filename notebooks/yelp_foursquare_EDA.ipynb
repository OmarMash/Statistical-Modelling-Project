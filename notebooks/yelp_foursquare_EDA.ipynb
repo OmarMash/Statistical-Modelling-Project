{
 "cells": [
  {
   "cell_type": "code",
   "execution_count": 5,
   "metadata": {},
   "outputs": [],
   "source": [
    "# imports\n",
    "import requests\n",
    "import pandas as pd\n",
    "import os"
   ]
  },
  {
   "cell_type": "markdown",
   "metadata": {},
   "source": [
    "# Foursquare"
   ]
  },
  {
   "cell_type": "markdown",
   "metadata": {},
   "source": [
    "Send a request to Foursquare with a small radius (1000m) for all the bike stations in your city of choice. "
   ]
  },
  {
   "cell_type": "code",
   "execution_count": null,
   "metadata": {},
   "outputs": [],
   "source": [
    "latandlongs = pd.Series()\n",
    "latandlongs = station_stats['latitude'].astype(str) + ',' + station_stats['longitude'].astype(str)\n",
    "FSak = os.environ[\"FOURSQUARE_API_KEY\"]\n",
    "FSurl = \"https://api.foursquare.com/v3/places/search?\"\n",
    "FSheaders = {\n",
    "    \"Accept\": \"application/json\",\n",
    "    \"Authorization\": FSak\n",
    "}"
   ]
  },
  {
   "cell_type": "code",
   "execution_count": null,
   "metadata": {},
   "outputs": [],
   "source": [
    "def get_POI_df(latandlong, categories):\n",
    "    FSparams = {\n",
    "      \t\"ll\": latandlong,\n",
    "        \"radius\": \"1000\",\n",
    "        \"categories\": categories,\n",
    "        \"fields\": \"fsq_id,categories,distance,name,social_media,verified,rating,stats,location,popularity\",\n",
    "      \t\"sort\":\"DISTANCE\", \n",
    "        \"limit\" :\"50\"\n",
    "    }\n",
    "    FSresponse = requests.get(FSurl, params=FSparams, headers=FSheaders)\n",
    "    FSjson= FSresponse.json()\n",
    "    data = pd.json_normalize(FSjson[\"results\"])\n",
    "    return data\n",
    "    "
   ]
  },
  {
   "cell_type": "markdown",
   "metadata": {},
   "source": [
    "Parse through the response to get the POI (such as restaurants, bars, etc) details you want (ratings, name, location, etc)"
   ]
  },
  {
   "cell_type": "code",
   "execution_count": null,
   "metadata": {},
   "outputs": [],
   "source": [
    "# this DF will contain All unique POIs for all stations\n",
    "poi_for_all_stations = pd.DataFrame()\n",
    "# this DF will contain data about bike stations and the corresponding POI (distance from each other)\n",
    "station_to_poi_table = pd.DataFrame(columns = ['station_id', 'fsq_id', 'distance']) \n",
    "for indx1,latandlong in latandlongs.items():\n",
    "    tempdata = get_POI_df([latandlong],\"13065\")\n",
    "    poi_for_all_stations = pd.concat([poi_for_all_stations, tempdata], ignore_index=True)\n",
    "    for indx2,row in tempdata.iterrows():\n",
    "        #indx1 indicates row of the station, indx2 signifies the row of the FOURSQUARE place within the df for each station\n",
    "        new_row = pd.DataFrame({'station_id': [(station_stats.loc[indx1,\"id\"])],'fsq_id' :[(tempdata.loc[indx2,\"fsq_id\"])],\n",
    "                               'distance':[(tempdata.loc[indx2,\"distance\"])]})\n",
    "        station_to_poi_table = pd.concat([station_to_poi_table,new_row],ignore_index=True)\n",
    "        \n",
    "# further cleaning of data_frame\n",
    "poi_for_all_stations.drop_duplicates(subset = [\"fsq_id\"],inplace = True, ignore_index = True)\n",
    "poi_for_all_stations.drop(columns=['distance'], inplace = True) \n",
    "\n"
   ]
  },
  {
   "cell_type": "markdown",
   "metadata": {},
   "source": [
    "Put your parsed results into a DataFrame"
   ]
  },
  {
   "cell_type": "code",
   "execution_count": null,
   "metadata": {},
   "outputs": [],
   "source": [
    "# I completed this task above"
   ]
  },
  {
   "cell_type": "markdown",
   "metadata": {},
   "source": [
    "Creating addtitional dataframe to record poi and category, and dataframe for cat_id and corresponding category name"
   ]
  },
  {
   "cell_type": "code",
   "execution_count": null,
   "metadata": {},
   "outputs": [],
   "source": [
    "category_df = poi_for_all_stations.loc[:,[\"fsq_id\",\"categories\"]]\n",
    "cat_table = pd.DataFrame(columns = ['Index', 'Category_id'])\n",
    "\n",
    "for indx, values in category_df.loc[:,\"categories\"].items():\n",
    "    for value in values:\n",
    "        new_row = {'Index': indx, 'Category_id':value[\"id\"]}\n",
    "       \n",
    "        cat_table = pd.concat([cat_table, pd.DataFrame([new_row])], ignore_index=True)\n",
    "\n",
    "cat_table = pd.merge(category_df, cat_table, right_on= 'Index',\n",
    "                   left_index = True , \n",
    "                   how = 'inner')\n",
    "\n",
    "def get_cat_details(df):\n",
    "    get_details_table = pd.DataFrame(columns = ['cat_name', 'cat_id'])\n",
    "    for indx, row in df.iterrows():\n",
    "        for indx2 in row[1]:\n",
    "            new_row = pd.DataFrame({'cat_name': [indx2[\"name\"]],'cat_id':[indx2[\"id\"]]})\n",
    "            get_details_table= pd.concat([get_details_table,new_row],ignore_index=True)\n",
    "        #print(row)\n",
    "    return(get_details_table)\n",
    "\n",
    "cat_details_table = get_cat_details(cat_table)\n",
    "cat_details_table = cat_details_table.drop_duplicates().reset_index(drop = True)\n",
    "\n",
    "cat_table = cat_table.drop(columns=['Index',\"categories\"])"
   ]
  },
  {
   "cell_type": "markdown",
   "metadata": {},
   "source": [
    "# Yelp"
   ]
  },
  {
   "cell_type": "markdown",
   "metadata": {},
   "source": [
    "Send a request to Yelp with a small radius (1000m) for all the bike stations in your city of choice. "
   ]
  },
  {
   "cell_type": "code",
   "execution_count": null,
   "metadata": {},
   "outputs": [],
   "source": [
    "Yak = os.environ[\"YELP_API_KEY\"]\n",
    "Yurl = \"https://api.yelp.com/v3/businesses/search?\"\n",
    "Yheaders = {\n",
    "    \"Accept\": \"application/json\",\n",
    "    \"Authorization\": 'Bearer %s' % Yak\n",
    "}\n",
    "def get_yelp_poi(lat, long):\n",
    "    Yparams = {\n",
    "        \"latitude\" : lat,\n",
    "        \"longitude\" : long,\n",
    "        \"radius\" : \"1000\",\n",
    "        \"categories\" : \"restaurants\",\n",
    "        \"sort_by\" : \"distance\",\n",
    "        \"limit\" : \"50\"\n",
    "    }\n",
    "    Yresponse = requests.get(Yurl,params=Yparams, headers = Yheaders)\n",
    "    Yjson = Yresponse.json()\n",
    "    ydata = pd.json_normalize(Yjson[\"businesses\"])\n",
    "    return ydata\n",
    "\n",
    "yelp_all_poi = pd.DataFrame()\n",
    "for i in range(len(station_stats)):\n",
    "    lat = station_stats.loc[i, \"latitude\"]\n",
    "    long = station_stats.loc[i, \"longitude\"]\n",
    "    ytemp = get_yelp_poi(lat, long)\n",
    "    yelp_all_poi = pd.concat([yelp_all_poi, ytemp], ignore_index=True)\n",
    "\n",
    "yelp_all_poi.drop_duplicates(subset = [\"id\"],inplace = True, ignore_index = True)\n",
    "\n"
   ]
  },
  {
   "cell_type": "markdown",
   "metadata": {},
   "source": [
    "Parse through the response to get the POI (such as restaurants, bars, etc) details you want (ratings, name, location, etc)"
   ]
  },
  {
   "cell_type": "code",
   "execution_count": null,
   "metadata": {},
   "outputs": [],
   "source": [
    "# I completed this task above"
   ]
  },
  {
   "cell_type": "markdown",
   "metadata": {},
   "source": [
    "Put your parsed results into a DataFrame"
   ]
  },
  {
   "cell_type": "code",
   "execution_count": null,
   "metadata": {},
   "outputs": [],
   "source": [
    "# I completed this task above"
   ]
  },
  {
   "cell_type": "markdown",
   "metadata": {},
   "source": [
    "# Comparing Results"
   ]
  },
  {
   "cell_type": "markdown",
   "metadata": {},
   "source": [
    "Which API provided you with more complete data? Provide an explanation. "
   ]
  },
  {
   "cell_type": "markdown",
   "metadata": {},
   "source": [
    "Each API has it's own distinctive edge (ex, Foursquare offers data like social media handles, YELP offers filtering businesses with desired reservation time and number of people). Foursquare's API had more POIs, YELP's API had more number of reviews per POI. But the deciding factor for me was a measurment named 'popularity' that measures visits and the distance between POI and bike station which only foursquare's api offered. "
   ]
  },
  {
   "cell_type": "markdown",
   "metadata": {},
   "source": [
    "Get the top 10 restaurants according to their rating"
   ]
  },
  {
   "cell_type": "code",
   "execution_count": null,
   "metadata": {},
   "outputs": [],
   "source": [
    "top_yelp =(yelp_all_poi.sort_values(by='rating', ascending=False, ignore_index= True).head(10)).loc[:,[\"name\"]] # yelp top 10\n",
    "top_FS = (poi_for_all_stations.sort_values(by='rating', ascending=False, ignore_index= True).head(10)).loc[:,[\"name\"]] # fs top 10"
   ]
  }
 ],
 "metadata": {
  "kernelspec": {
   "display_name": "Python 3.8.16",
   "language": "python",
   "name": "python3"
  },
  "language_info": {
   "codemirror_mode": {
    "name": "ipython",
    "version": 3
   },
   "file_extension": ".py",
   "mimetype": "text/x-python",
   "name": "python",
   "nbconvert_exporter": "python",
   "pygments_lexer": "ipython3",
   "version": "3.8.16"
  },
  "vscode": {
   "interpreter": {
    "hash": "39512f3c2a1741d7f752d45a133d4514127029333ea14bc2f3c6c5e6759b9029"
   }
  }
 },
 "nbformat": 4,
 "nbformat_minor": 4
}
